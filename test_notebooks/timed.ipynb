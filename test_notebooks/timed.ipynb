{
 "cells": [
  {
   "cell_type": "code",
   "execution_count": 1,
   "metadata": {
    "execution": {
     "iopub.execute_input": "2023-09-10T22:07:54.760452Z",
     "iopub.status.busy": "2023-09-10T22:07:54.759988Z",
     "iopub.status.idle": "2023-09-10T22:07:54.771191Z",
     "shell.execute_reply": "2023-09-10T22:07:54.770813Z"
    }
   },
   "outputs": [],
   "source": [
    "with open(\"ping.txt\",\"w\") as f:\n",
    "    f.write(\"\")"
   ]
  },
  {
   "cell_type": "code",
   "execution_count": 2,
   "metadata": {
    "execution": {
     "iopub.execute_input": "2023-09-10T22:07:54.774619Z",
     "iopub.status.busy": "2023-09-10T22:07:54.774460Z",
     "iopub.status.idle": "2023-09-10T22:08:04.823741Z",
     "shell.execute_reply": "2023-09-10T22:08:04.823399Z"
    }
   },
   "outputs": [
    {
     "name": "stdout",
     "output_type": "stream",
     "text": [
      "0\n"
     ]
    },
    {
     "name": "stdout",
     "output_type": "stream",
     "text": [
      "1\n"
     ]
    },
    {
     "name": "stdout",
     "output_type": "stream",
     "text": [
      "2\n"
     ]
    },
    {
     "name": "stdout",
     "output_type": "stream",
     "text": [
      "3\n"
     ]
    },
    {
     "name": "stdout",
     "output_type": "stream",
     "text": [
      "4\n"
     ]
    },
    {
     "name": "stdout",
     "output_type": "stream",
     "text": [
      "5\n"
     ]
    },
    {
     "name": "stdout",
     "output_type": "stream",
     "text": [
      "6\n"
     ]
    },
    {
     "name": "stdout",
     "output_type": "stream",
     "text": [
      "7\n"
     ]
    },
    {
     "name": "stdout",
     "output_type": "stream",
     "text": [
      "8\n"
     ]
    },
    {
     "name": "stdout",
     "output_type": "stream",
     "text": [
      "9\n"
     ]
    }
   ],
   "source": [
    "import time\n",
    "\n",
    "for i in range(10):\n",
    "    print(i)\n",
    "    time.sleep(1)"
   ]
  },
  {
   "cell_type": "code",
   "execution_count": 3,
   "metadata": {
    "execution": {
     "iopub.execute_input": "2023-09-10T22:08:04.826257Z",
     "iopub.status.busy": "2023-09-10T22:08:04.826125Z",
     "iopub.status.idle": "2023-09-10T22:08:09.836429Z",
     "shell.execute_reply": "2023-09-10T22:08:09.835644Z"
    }
   },
   "outputs": [
    {
     "name": "stdout",
     "output_type": "stream",
     "text": [
      "slept\n"
     ]
    }
   ],
   "source": [
    "time.sleep(5)\n",
    "print(\"slept\")"
   ]
  },
  {
   "cell_type": "code",
   "execution_count": 4,
   "metadata": {
    "execution": {
     "iopub.execute_input": "2023-09-10T22:08:09.844513Z",
     "iopub.status.busy": "2023-09-10T22:08:09.844244Z",
     "iopub.status.idle": "2023-09-10T22:08:09.847940Z",
     "shell.execute_reply": "2023-09-10T22:08:09.847510Z"
    }
   },
   "outputs": [
    {
     "name": "stdout",
     "output_type": "stream",
     "text": [
      "/Users/dooli/Projects/misc/kaggle-download/workspace\n"
     ]
    }
   ],
   "source": [
    "import os\n",
    "print(os.getcwd())\n",
    "\n",
    "# delete ping file\n",
    "os.remove(\"ping.txt\")"
   ]
  }
 ],
 "metadata": {
  "language_info": {
   "codemirror_mode": {
    "name": "ipython",
    "version": 3
   },
   "file_extension": ".py",
   "mimetype": "text/x-python",
   "name": "python",
   "nbconvert_exporter": "python",
   "pygments_lexer": "ipython3",
   "version": "3.11.4"
  }
 },
 "nbformat": 4,
 "nbformat_minor": 2
}
